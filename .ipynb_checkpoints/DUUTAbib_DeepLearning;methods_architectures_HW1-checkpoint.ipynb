{
 "cells": [
  {
   "cell_type": "code",
   "execution_count": 1,
   "metadata": {
    "collapsed": true
   },
   "outputs": [],
   "source": [
    "#Loading modules \n",
    "import numpy as np\n",
    "import random\n",
    "\n",
    "a = lambda x : 1/ (1 + np.exp(-x ))\n"
   ]
  },
  {
   "cell_type": "markdown",
   "metadata": {},
   "source": [
    "![title](dlma_problem1.png)"
   ]
  },
  {
   "cell_type": "markdown",
   "metadata": {},
   "source": [
    "![title](dlma_problem_details.png)\n",
    "![title](dlma_problem2.png)"
   ]
  },
  {
   "cell_type": "markdown",
   "metadata": {},
   "source": [
    "$$w0_1 =\\begin{array}{ccc}\n",
    "                {\\left[-.20 & 0.48 & -.52\\\\\n",
    "              -.56 &1.97& 1.39\\\\\n",
    "              .10 & .28 & .77 \\\\\n",
    "              1.25& 1.09 & -1.30 \\right]\n",
    "              \\end{array}} $$\n",
    "\n",
    "$b_0 = [[0.27, 0.23, 1.35, .89]])$\n",
    "\n",
    "$$w1_2 = ([[-1, -0.19, 0.83, -.22],\n",
    "                [-.27, .24, 1.62, -.51 ],\n",
    "               [-.29, .06, .15, .26],\n",
    "               [0.00, .67, -.36, -.42]])$$\n",
    "\n",
    "$b_1 = np.array([[-1.19, -.93, -.43, .28]])$\n",
    "\n",
    "\n",
    "$$w3_2= np.array([[-.13, 0.01, -.10, .03],\n",
    "               [-0.24, -.02, -.15, -.10]])$$\n",
    "$b2 = np.array([[-.13, .03]])$"
   ]
  },
  {
   "cell_type": "code",
   "execution_count": null,
   "metadata": {
    "collapsed": true
   },
   "outputs": [],
   "source": [
    "#wi_j denotes weights for layer i to layer j\n",
    "\n",
    "w0_1 =np.array([[-.20, 0.48, -.52],\n",
    "              [-.56, 1.97, 1.39],\n",
    "              [.10, .28, .77],\n",
    "              [1.25, 1.09, -1.30]])  \n",
    "b_0 = np.array([[0.27, 0.23, 1.35, .89]])\n",
    "x =  np.array([[.13, 0.68, .80, .57, .97 ],\n",
    "               [.63, .89, .50, .35, .71],\n",
    "              [.50, .23, .24, .79, .50]])\n",
    "w1_2 = np.array([[-1, -0.19, 0.83, -.22],\n",
    "                [-.27, .24, 1.62, -.51 ],\n",
    "               [-.29, .06, .15, .26],\n",
    "               [0.00, .67, -.36, -.42]])\n",
    "\n",
    "b_1 = np.array([[-1.19, -.93, -.43, .28]])\n",
    "\n",
    "w3_2= np.array([[-.13, 0.01, -.10, .03],\n",
    "               [-0.24, -.02, -.15, -.10]])\n",
    "b2 = np.array([[-.13, .03]])"
   ]
  },
  {
   "cell_type": "code",
   "execution_count": null,
   "metadata": {
    "collapsed": true
   },
   "outputs": [],
   "source": [
    "h1 =a(np.dot(w0_1,x)+b_0.T  )\n",
    "print(h1.T)"
   ]
  },
  {
   "cell_type": "code",
   "execution_count": null,
   "metadata": {
    "collapsed": true
   },
   "outputs": [],
   "source": [
    "h2=a(np.dot(w1_2,h1) + b_1.T)\n",
    "print(h2.T)"
   ]
  },
  {
   "cell_type": "code",
   "execution_count": null,
   "metadata": {
    "collapsed": true
   },
   "outputs": [],
   "source": [
    "h3 = np.dot(w3_2, h2)+ b2.T\n",
    "print(h3)"
   ]
  }
 ],
 "metadata": {
  "kernelspec": {
   "display_name": "Python 3",
   "language": "python",
   "name": "python3"
  },
  "language_info": {
   "codemirror_mode": {
    "name": "ipython",
    "version": 3
   },
   "file_extension": ".py",
   "mimetype": "text/x-python",
   "name": "python",
   "nbconvert_exporter": "python",
   "pygments_lexer": "ipython3",
   "version": "3.6.3"
  }
 },
 "nbformat": 4,
 "nbformat_minor": 2
}
