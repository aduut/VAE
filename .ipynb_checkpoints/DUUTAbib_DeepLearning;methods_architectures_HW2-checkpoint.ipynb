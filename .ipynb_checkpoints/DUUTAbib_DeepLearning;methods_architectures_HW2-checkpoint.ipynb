{
 "cells": [
  {
   "cell_type": "code",
   "execution_count": 2,
   "metadata": {},
   "outputs": [],
   "source": [
    "#Load modules for task\n",
    "import numpy as np\n",
    "np.random.seed(12345)"
   ]
  },
  {
   "cell_type": "code",
   "execution_count": 3,
   "metadata": {
    "collapsed": true
   },
   "outputs": [],
   "source": [
    "\n",
    "a = lambda x : 1/ (1 + np.exp(-x ))\n",
    "\n",
    "\n",
    "def initialize (input_dim, hidden_dim, output_dim, batch_size):\n",
    "    W1 =np.random.randn((hidden_dim, input_dim)) *0.01\n",
    "    b1 =np.zeros((hidden_dim,))\n",
    "    W2 =np.random.randn((hidden_dim, hidden_dim))*0.01\n",
    "    b2 =np.zeros((hidden_dim,))\n",
    "    W3 =np.random.randn((output_dim, hidden_dim))*0.01\n",
    "    b3 =np.zeros((output_dim,))\n",
    "    \n",
    "    #list of all parameters of network\n",
    "    parameters =[W1, W2, W3, b1 , b2, b3]\n",
    "    #minibatch of inputs\n",
    "    x = np.random.randn((input_dim, batch_size))\n",
    "    #ground truths\n",
    "    y =random.randn((output_dim, batch_size))\n",
    "    \n",
    "    return parameters ,x,y\n",
    "    "
   ]
  },
  {
   "cell_type": "code",
   "execution_count": null,
   "metadata": {
    "collapsed": true
   },
   "outputs": [],
   "source": []
  }
 ],
 "metadata": {
  "kernelspec": {
   "display_name": "Python 3",
   "language": "python",
   "name": "python3"
  },
  "language_info": {
   "codemirror_mode": {
    "name": "ipython",
    "version": 3
   },
   "file_extension": ".py",
   "mimetype": "text/x-python",
   "name": "python",
   "nbconvert_exporter": "python",
   "pygments_lexer": "ipython3",
   "version": "3.6.3"
  }
 },
 "nbformat": 4,
 "nbformat_minor": 2
}
