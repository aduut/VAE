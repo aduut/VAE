{
 "cells": [
  {
   "cell_type": "code",
   "execution_count": 1,
   "metadata": {
    "collapsed": true
   },
   "outputs": [],
   "source": [
    "#load modules\n",
    "\n",
    "import numpy as np \n",
    "import matplotlib.pyplot as plt\n",
    "import random"
   ]
  },
  {
   "cell_type": "markdown",
   "metadata": {},
   "source": [
    "Gradient Descent on $$f(x) = x^{2} -2$$"
   ]
  },
  {
   "cell_type": "code",
   "execution_count": 3,
   "metadata": {},
   "outputs": [
    {
     "name": "stdout",
     "output_type": "stream",
     "text": [
      ">>> iteration :  1 x_value: 9.399997000003282  gradient 18.800093999971068\n",
      ">>> iteration :  2 x_value: 8.83599418000415  gradient 17.672088360001226\n",
      ">>> iteration :  3 x_value: 8.305831529204113  gradient 16.61176305830736\n",
      ">>> iteration :  4 x_value: 7.807478637454892  gradient 15.615057274871447\n",
      ">>> iteration :  5 x_value: 7.339026919208749  gradient 14.678153838403318\n",
      ">>> iteration :  6 x_value: 6.898682304056649  gradient 13.797464608131804\n",
      ">>> iteration :  7 x_value: 6.484758365812695  gradient 12.969616731552946\n",
      ">>> iteration :  8 x_value: 6.095669863866107  gradient 12.191439727757825\n",
      ">>> iteration :  9 x_value: 5.729926672033372  gradient 11.459953344044038\n",
      ">>> iteration :  10 x_value: 5.386128071712051  gradient 10.772356143391448\n",
      ">>> iteration :  11 x_value: 5.062957387410307  gradient 10.126014774805014\n",
      ">>> iteration :  12 x_value: 4.759176944166157  gradient 9.518453888333056\n",
      ">>> iteration :  13 x_value: 4.473623327516165  gradient 8.947346655006072\n",
      ">>> iteration :  14 x_value: 4.205202927865983  gradient 8.410505855707129\n",
      ">>> iteration :  15 x_value: 3.952887752194769  gradient 7.905875504405913\n",
      ">>> iteration :  16 x_value: 3.715711487062592  gradient 7.431522974137295\n",
      ">>> iteration :  17 x_value: 3.492765797838473  gradient 6.985631595686215\n",
      ">>> iteration :  18 x_value: 3.2831968499678865  gradient 6.566493699953213\n",
      ">>> iteration :  19 x_value: 3.08620203896929  gradient 6.172504077959218\n",
      ">>> iteration :  20 x_value: 2.9010269166305136  gradient 5.802153833283086\n",
      ">>> iteration :  21 x_value: 2.726962301632021  gradient 5.454024603279706\n",
      ">>> iteration :  22 x_value: 2.56334156353363  gradient 5.1267831270784825\n",
      ">>> iteration :  23 x_value: 2.4095380697212754  gradient 4.819176139454484\n",
      ">>> iteration :  24 x_value: 2.264962785537641  gradient 4.5300255710767345\n",
      ">>> iteration :  25 x_value: 2.129062018405339  gradient 4.2582240368194135\n",
      ">>> iteration :  26 x_value: 2.0013152973007564  gradient 4.002730594612203\n",
      ">>> iteration :  27 x_value: 1.8812333794623903  gradient 3.762566758922503\n",
      ">>> iteration :  28 x_value: 1.7683563766947152  gradient 3.536812753388574\n",
      ">>> iteration :  29 x_value: 1.662251994093058  gradient 3.324603988184016\n",
      ">>> iteration :  30 x_value: 1.5625138744475375  gradient 3.125127748893064\n",
      ">>> iteration :  31 x_value: 1.4687600419807456  gradient 2.9376200839648092\n",
      ">>> iteration :  32 x_value: 1.3806314394618013  gradient 2.76136287892248\n",
      ">>> iteration :  33 x_value: 1.297790553094127  gradient 2.595681106187797\n",
      ">>> iteration :  34 x_value: 1.219920119908493  gradient 2.4399402398178616\n",
      ">>> iteration :  35 x_value: 1.1467219127139572  gradient 2.293543825429012\n",
      ">>> iteration :  36 x_value: 1.0779155979510868  gradient 2.15593119590185\n",
      ">>> iteration :  37 x_value: 1.0132376620740313  gradient 2.026575324147739\n",
      ">>> iteration :  38 x_value: 0.9524404023495991  gradient 1.9049808046989192\n",
      ">>> iteration :  39 x_value: 0.8952909782086316  gradient 1.7906819564172949\n",
      ">>> iteration :  40 x_value: 0.8415705195161127  gradient 1.6832410390321684\n",
      ">>> iteration :  41 x_value: 0.7910732883451477  gradient 1.58224657669237\n",
      ">>> iteration :  42 x_value: 0.7436058910443766  gradient 1.4873117820890513\n",
      ">>> iteration :  43 x_value: 0.698986537581705  gradient 1.39807307516282\n",
      ">>> iteration :  44 x_value: 0.6570443453268204  gradient 1.3141886906531397\n",
      ">>> iteration :  45 x_value: 0.6176186846072262  gradient 1.2353373692142178\n",
      ">>> iteration :  46 x_value: 0.5805585635307997  gradient 1.1612171270614091\n",
      ">>> iteration :  47 x_value: 0.5457220497189574  gradient 1.0915440994385683\n",
      ">>> iteration :  48 x_value: 0.5129757267358004  gradient 1.026051453472121\n",
      ">>> iteration :  49 x_value: 0.48219418313163676  gradient 0.9644883662640602\n"
     ]
    }
   ],
   "source": [
    "x_init = 10\n",
    "h= 0.0001 \n",
    "alpha = 0.03\n",
    "f= lambda x: (x**2) - 2 \n",
    "derf = lambda x: (f(x+h) - f(x))/h\n",
    "l_desc = lambda x : x - (alpha* derf(x))\n",
    "i= 0\n",
    "while np.floor(derf(x_init))> 0.0001:\n",
    "        i += 1\n",
    "        x_n = l_desc(x_init)\n",
    "        x_init = x_n\n",
    "        print(\">>> iteration :  {} x_value: {}  gradient {}\" .format(i , x_init, derf(x_init) ))"
   ]
  },
  {
   "cell_type": "code",
   "execution_count": 4,
   "metadata": {},
   "outputs": [
    {
     "name": "stdout",
     "output_type": "stream",
     "text": [
      ">>> epochs :  1 x_value: 9.4  gradient 18.8\n",
      ">>> epochs :  2 x_value: 8.836  gradient 17.672\n",
      ">>> epochs :  3 x_value: 8.30584  gradient 16.61168\n",
      ">>> epochs :  4 x_value: 7.8074896  gradient 15.6149792\n",
      ">>> epochs :  5 x_value: 7.339040224000001  gradient 14.678080448000001\n",
      ">>> epochs :  6 x_value: 6.898697810560001  gradient 13.797395621120002\n",
      ">>> epochs :  7 x_value: 6.484775941926401  gradient 12.969551883852802\n",
      ">>> epochs :  8 x_value: 6.095689385410817  gradient 12.191378770821634\n",
      ">>> epochs :  9 x_value: 5.729948022286168  gradient 11.459896044572336\n",
      ">>> epochs :  10 x_value: 5.386151140948998  gradient 10.772302281897996\n",
      ">>> epochs :  11 x_value: 5.0629820724920584  gradient 10.125964144984117\n",
      ">>> epochs :  12 x_value: 4.759203148142535  gradient 9.51840629628507\n",
      ">>> epochs :  13 x_value: 4.473650959253983  gradient 8.947301918507966\n",
      ">>> epochs :  14 x_value: 4.205231901698744  gradient 8.410463803397487\n",
      ">>> epochs :  15 x_value: 3.952917987596819  gradient 7.905835975193638\n",
      ">>> epochs :  16 x_value: 3.7157429083410096  gradient 7.431485816682019\n",
      ">>> epochs :  17 x_value: 3.492798333840549  gradient 6.985596667681098\n",
      ">>> epochs :  18 x_value: 3.283230433810116  gradient 6.566460867620232\n",
      ">>> epochs :  19 x_value: 3.086236607781509  gradient 6.172473215563018\n",
      ">>> epochs :  20 x_value: 2.9010624113146184  gradient 5.802124822629237\n",
      ">>> epochs :  21 x_value: 2.7269986666357413  gradient 5.453997333271483\n",
      ">>> epochs :  22 x_value: 2.563378746637597  gradient 5.126757493275194\n",
      ">>> epochs :  23 x_value: 2.409576021839341  gradient 4.819152043678682\n",
      ">>> epochs :  24 x_value: 2.2650014605289805  gradient 4.530002921057961\n",
      ">>> epochs :  25 x_value: 2.129101372897242  gradient 4.258202745794484\n",
      ">>> epochs :  26 x_value: 2.0013552905234073  gradient 4.002710581046815\n",
      ">>> epochs :  27 x_value: 1.881273973092003  gradient 3.762547946184006\n",
      ">>> epochs :  28 x_value: 1.7683975347064829  gradient 3.5367950694129657\n",
      ">>> epochs :  29 x_value: 1.662293682624094  gradient 3.324587365248188\n",
      ">>> epochs :  30 x_value: 1.5625560616666483  gradient 3.1251121233332966\n",
      ">>> epochs :  31 x_value: 1.4688026979666493  gradient 2.9376053959332986\n",
      ">>> epochs :  32 x_value: 1.3806745360886503  gradient 2.7613490721773006\n",
      ">>> epochs :  33 x_value: 1.2978340639233312  gradient 2.5956681278466625\n",
      ">>> epochs :  34 x_value: 1.2199640200879314  gradient 2.4399280401758627\n",
      ">>> epochs :  35 x_value: 1.1467661788826555  gradient 2.293532357765311\n",
      ">>> epochs :  36 x_value: 1.0779602081496962  gradient 2.1559204162993924\n",
      ">>> epochs :  37 x_value: 1.0132825956607143  gradient 2.0265651913214286\n",
      ">>> epochs :  38 x_value: 0.9524856399210715  gradient 1.904971279842143\n",
      ">>> epochs :  39 x_value: 0.8953365015258072  gradient 1.7906730030516145\n",
      ">>> epochs :  40 x_value: 0.8416163114342589  gradient 1.6832326228685177\n",
      ">>> epochs :  41 x_value: 0.7911193327482033  gradient 1.5822386654964067\n",
      ">>> epochs :  42 x_value: 0.7436521727833112  gradient 1.4873043455666224\n",
      ">>> epochs :  43 x_value: 0.6990330424163125  gradient 1.398066084832625\n",
      ">>> epochs :  44 x_value: 0.6570910598713338  gradient 1.3141821197426675\n",
      ">>> epochs :  45 x_value: 0.6176655962790537  gradient 1.2353311925581074\n",
      ">>> epochs :  46 x_value: 0.5806056605023104  gradient 1.1612113210046209\n",
      ">>> epochs :  47 x_value: 0.5457693208721718  gradient 1.0915386417443436\n",
      ">>> epochs :  48 x_value: 0.5130231616198415  gradient 1.026046323239683\n",
      ">>> epochs :  49 x_value: 0.48224177192265105  gradient 0.9644835438453021\n",
      ">>> epochs :  50 x_value: 0.453307265607292  gradient 0.906614531214584\n",
      ">>> epochs :  51 x_value: 0.4261088296708545  gradient 0.852217659341709\n",
      ">>> epochs :  52 x_value: 0.40054229989060325  gradient 0.8010845997812065\n",
      ">>> epochs :  53 x_value: 0.37650976189716706  gradient 0.7530195237943341\n",
      ">>> epochs :  54 x_value: 0.353919176183337  gradient 0.707838352366674\n",
      ">>> epochs :  55 x_value: 0.3326840256123368  gradient 0.6653680512246736\n",
      ">>> epochs :  56 x_value: 0.31272298407559657  gradient 0.6254459681511931\n",
      ">>> epochs :  57 x_value: 0.2939596050310608  gradient 0.5879192100621216\n",
      ">>> epochs :  58 x_value: 0.27632202872919714  gradient 0.5526440574583943\n",
      ">>> epochs :  59 x_value: 0.25974270700544533  gradient 0.5194854140108907\n",
      ">>> epochs :  60 x_value: 0.2441581445851186  gradient 0.4883162891702372\n",
      ">>> epochs :  61 x_value: 0.2295086559100115  gradient 0.459017311820023\n",
      ">>> epochs :  62 x_value: 0.2157381365554108  gradient 0.4314762731108216\n",
      ">>> epochs :  63 x_value: 0.20279384836208614  gradient 0.4055876967241723\n",
      ">>> epochs :  64 x_value: 0.19062621746036096  gradient 0.3812524349207219\n",
      ">>> epochs :  65 x_value: 0.1791886444127393  gradient 0.3583772888254786\n",
      ">>> epochs :  66 x_value: 0.16843732574797493  gradient 0.33687465149594986\n",
      ">>> epochs :  67 x_value: 0.15833108620309644  gradient 0.3166621724061929\n",
      ">>> epochs :  68 x_value: 0.14883122103091065  gradient 0.2976624420618213\n",
      ">>> epochs :  69 x_value: 0.13990134776905602  gradient 0.27980269553811205\n",
      ">>> epochs :  70 x_value: 0.13150726690291267  gradient 0.26301453380582535\n",
      ">>> epochs :  71 x_value: 0.12361683088873791  gradient 0.24723366177747583\n",
      ">>> epochs :  72 x_value: 0.11619982103541364  gradient 0.23239964207082728\n",
      ">>> epochs :  73 x_value: 0.10922783177328882  gradient 0.21845566354657764\n",
      ">>> epochs :  74 x_value: 0.10267416186689149  gradient 0.20534832373378298\n",
      ">>> epochs :  75 x_value: 0.096513712154878  gradient 0.193027424309756\n",
      ">>> epochs :  76 x_value: 0.09072288942558532  gradient 0.18144577885117064\n",
      ">>> epochs :  77 x_value: 0.0852795160600502  gradient 0.1705590321201004\n",
      ">>> epochs :  78 x_value: 0.08016274509644719  gradient 0.16032549019289438\n",
      ">>> epochs :  79 x_value: 0.07535298039066037  gradient 0.15070596078132073\n",
      ">>> epochs :  80 x_value: 0.07083180156722074  gradient 0.14166360313444148\n",
      ">>> epochs :  81 x_value: 0.06658189347318749  gradient 0.13316378694637498\n",
      ">>> epochs :  82 x_value: 0.06258697986479625  gradient 0.1251739597295925\n",
      ">>> epochs :  83 x_value: 0.058831761072908474  gradient 0.11766352214581695\n",
      ">>> epochs :  84 x_value: 0.05530185540853397  gradient 0.11060371081706794\n",
      ">>> epochs :  85 x_value: 0.05198374408402193  gradient 0.10396748816804385\n",
      ">>> epochs :  86 x_value: 0.04886471943898061  gradient 0.09772943887796122\n",
      ">>> epochs :  87 x_value: 0.045932836272641775  gradient 0.09186567254528355\n",
      ">>> epochs :  88 x_value: 0.04317686609628327  gradient 0.08635373219256653\n",
      ">>> epochs :  89 x_value: 0.040586254130506275  gradient 0.08117250826101255\n",
      ">>> epochs :  90 x_value: 0.038151078882675896  gradient 0.07630215776535179\n",
      ">>> epochs :  91 x_value: 0.03586201414971534  gradient 0.07172402829943068\n",
      ">>> epochs :  92 x_value: 0.03371029330073242  gradient 0.06742058660146484\n",
      ">>> epochs :  93 x_value: 0.031687675702688475  gradient 0.06337535140537695\n",
      ">>> epochs :  94 x_value: 0.029786415160527168  gradient 0.059572830321054336\n",
      ">>> epochs :  95 x_value: 0.027999230250895537  gradient 0.055998460501791074\n",
      ">>> epochs :  96 x_value: 0.026319276435841806  gradient 0.05263855287168361\n",
      ">>> epochs :  97 x_value: 0.024740119849691298  gradient 0.049480239699382596\n",
      ">>> epochs :  98 x_value: 0.02325571265870982  gradient 0.04651142531741964\n",
      ">>> epochs :  99 x_value: 0.021860369899187233  gradient 0.043720739798374465\n",
      ">>> epochs :  100 x_value: 0.020548747705235997  gradient 0.041097495410471994\n",
      ">>> epochs :  101 x_value: 0.019315822842921836  gradient 0.03863164568584367\n",
      ">>> epochs :  102 x_value: 0.018156873472346527  gradient 0.036313746944693054\n",
      ">>> epochs :  103 x_value: 0.017067461064005734  gradient 0.03413492212801147\n",
      ">>> epochs :  104 x_value: 0.01604341340016539  gradient 0.03208682680033078\n",
      ">>> epochs :  105 x_value: 0.015080808596155466  gradient 0.030161617192310933\n",
      ">>> epochs :  106 x_value: 0.014175960080386138  gradient 0.028351920160772277\n",
      ">>> epochs :  107 x_value: 0.01332540247556297  gradient 0.02665080495112594\n",
      ">>> epochs :  108 x_value: 0.012525878327029191  gradient 0.025051756654058382\n",
      ">>> epochs :  109 x_value: 0.011774325627407439  gradient 0.023548651254814878\n",
      ">>> epochs :  110 x_value: 0.011067866089762993  gradient 0.022135732179525986\n",
      ">>> epochs :  111 x_value: 0.010403794124377214  gradient 0.02080758824875443\n",
      ">>> epochs :  112 x_value: 0.00977956647691458  gradient 0.01955913295382916\n",
      ">>> epochs :  113 x_value: 0.009192792488299706  gradient 0.018385584976599412\n",
      ">>> epochs :  114 x_value: 0.008641224939001723  gradient 0.017282449878003446\n",
      ">>> epochs :  115 x_value: 0.00812275144266162  gradient 0.01624550288532324\n",
      ">>> epochs :  116 x_value: 0.007635386356101923  gradient 0.015270772712203846\n",
      ">>> epochs :  117 x_value: 0.007177263174735808  gradient 0.014354526349471616\n",
      ">>> epochs :  118 x_value: 0.00674662738425166  gradient 0.01349325476850332\n",
      ">>> epochs :  119 x_value: 0.00634182974119656  gradient 0.01268365948239312\n",
      ">>> epochs :  120 x_value: 0.005961319956724767  gradient 0.011922639913449534\n",
      ">>> epochs :  121 x_value: 0.005603640759321281  gradient 0.011207281518642562\n",
      ">>> epochs :  122 x_value: 0.005267422313762004  gradient 0.010534844627524008\n",
      ">>> epochs :  123 x_value: 0.004951376974936284  gradient 0.009902753949872568\n",
      ">>> epochs :  124 x_value: 0.004654294356440107  gradient 0.009308588712880215\n",
      ">>> epochs :  125 x_value: 0.004375036695053701  gradient 0.008750073390107402\n",
      ">>> epochs :  126 x_value: 0.004112534493350479  gradient 0.008225068986700957\n",
      ">>> epochs :  127 x_value: 0.00386578242374945  gradient 0.0077315648474989\n",
      ">>> epochs :  128 x_value: 0.003633835478324483  gradient 0.007267670956648966\n",
      ">>> epochs :  129 x_value: 0.003415805349625014  gradient 0.006831610699250028\n",
      ">>> epochs :  130 x_value: 0.003210857028647513  gradient 0.006421714057295026\n",
      ">>> epochs :  131 x_value: 0.003018205606928662  gradient 0.006036411213857324\n",
      ">>> epochs :  132 x_value: 0.0028371132705129424  gradient 0.005674226541025885\n",
      ">>> epochs :  133 x_value: 0.002666886474282166  gradient 0.005333772948564332\n",
      ">>> epochs :  134 x_value: 0.002506873285825236  gradient 0.005013746571650472\n",
      ">>> epochs :  135 x_value: 0.002356460888675722  gradient 0.004712921777351444\n",
      ">>> epochs :  136 x_value: 0.0022150732353551786  gradient 0.004430146470710357\n",
      ">>> epochs :  137 x_value: 0.002082168841233868  gradient 0.004164337682467736\n",
      ">>> epochs :  138 x_value: 0.0019572387107598356  gradient 0.003914477421519671\n",
      ">>> epochs :  139 x_value: 0.0018398043881142454  gradient 0.0036796087762284908\n",
      ">>> epochs :  140 x_value: 0.0017294161248273907  gradient 0.0034588322496547814\n",
      ">>> epochs :  141 x_value: 0.0016256511573377473  gradient 0.0032513023146754946\n",
      ">>> epochs :  142 x_value: 0.0015281120878974826  gradient 0.003056224175794965\n",
      ">>> epochs :  143 x_value: 0.0014364253626236337  gradient 0.0028728507252472673\n",
      ">>> epochs :  144 x_value: 0.0013502398408662157  gradient 0.0027004796817324313\n",
      ">>> epochs :  145 x_value: 0.0012692254504142427  gradient 0.0025384509008284854\n",
      ">>> epochs :  146 x_value: 0.0011930719233893881  gradient 0.0023861438467787763\n",
      ">>> epochs :  147 x_value: 0.0011214876079860248  gradient 0.0022429752159720496\n",
      ">>> epochs :  148 x_value: 0.0010541983515068632  gradient 0.0021083967030137265\n",
      ">>> epochs :  149 x_value: 0.0009909464504164515  gradient 0.001981892900832903\n",
      ">>> epochs :  150 x_value: 0.0009314896633914643  gradient 0.0018629793267829287\n",
      ">>> epochs :  151 x_value: 0.0008756002835879765  gradient 0.001751200567175953\n",
      ">>> epochs :  152 x_value: 0.0008230642665726979  gradient 0.0016461285331453958\n",
      ">>> epochs :  153 x_value: 0.0007736804105783361  gradient 0.0015473608211566722\n",
      ">>> epochs :  154 x_value: 0.0007272595859436359  gradient 0.0014545191718872718\n"
     ]
    }
   ],
   "source": [
    "x_values = np.zeros((172, 1))\n",
    "d_values = np.zeros((172, 1))\n",
    "x_init = 10\n",
    "alpha = 0.03\n",
    "f= lambda x: (x**2) - 2 \n",
    "derf = lambda x: 2*x\n",
    "l_desc = lambda x : x - (alpha* derf(x))\n",
    "i= 0\n",
    "while round(derf(x_init),3)> 0.001:\n",
    "        x_values[i , :] = x_init\n",
    "        d_values [i, :] = derf(x_init)\n",
    "        i += 1\n",
    "        x_n = l_desc(x_init)\n",
    "        x_init = x_n\n",
    "        print(\">>> epochs :  {} x_value: {}  gradient {}\" .format(i , x_init, derf(x_init) ))"
   ]
  },
  {
   "cell_type": "code",
   "execution_count": 8,
   "metadata": {},
   "outputs": [
    {
     "data": {
      "image/png": "[encoded data removed]",
      "text/plain": [
       "<matplotlib.figure.Figure at 0x110d7a668>"
      ]
     },
     "metadata": {},
     "output_type": "display_data"
    }
   ],
   "source": [
    "plt.plot(x_values, 'b'  ,d_values, '--r' )\n",
    "plt.title(\"Convergence of Gradient Descent on f(x)\")\n",
    "plt.xlabel(\"Epochs\")\n",
    "plt.ylabel(\"X Values\")\n",
    "plt.legend(['values', 'gradient'])\n",
    "plt.show()"
   ]
  },
  {
   "cell_type": "code",
   "execution_count": 9,
   "metadata": {
    "collapsed": true
   },
   "outputs": [],
   "source": [
    "#Entropy \n",
    "import math\n",
    "H = lambda x : - (x* math.log(x, 2))"
   ]
  },
  {
   "cell_type": "code",
   "execution_count": 10,
   "metadata": {},
   "outputs": [
    {
     "data": {
      "text/plain": [
       "1.3972980254667353"
      ]
     },
     "execution_count": 10,
     "metadata": {},
     "output_type": "execute_result"
    }
   ],
   "source": [
    "H(0.03)+H(0.62)+ H(0.26) + H(0.09)"
   ]
  },
  {
   "cell_type": "markdown",
   "metadata": {},
   "source": [
    "Gradient descent on Rosenbrocks function $$f(x) = \\sum_{i=1}^{n-1}[100(x_{i+1} - x_{i}^{2})^{2} + (x_{i}-1 )^{2}]$$"
   ]
  },
  {
   "cell_type": "code",
   "execution_count": 10,
   "metadata": {},
   "outputs": [
    {
     "name": "stdout",
     "output_type": "stream",
     "text": [
      ">>>iteration: 0 sum1: [-51.] sumi: [-1.] sumf: [ 50.]\n"
     ]
    },
    {
     "ename": "IndexError",
     "evalue": "index 3 is out of bounds for axis 0 with size 3",
     "output_type": "error",
     "traceback": [
      "\u001b[0;31m---------------------------------------------------------------------------\u001b[0m",
      "\u001b[0;31mIndexError\u001b[0m                                Traceback (most recent call last)",
      "\u001b[0;32m<ipython-input-10-58e6ee91cf69>\u001b[0m in \u001b[0;36m<module>\u001b[0;34m()\u001b[0m\n\u001b[1;32m      9\u001b[0m     \u001b[0;32mfor\u001b[0m \u001b[0mi\u001b[0m \u001b[0;32min\u001b[0m \u001b[0mrange\u001b[0m\u001b[0;34m(\u001b[0m\u001b[0mn\u001b[0m\u001b[0;34m)\u001b[0m\u001b[0;34m:\u001b[0m\u001b[0;34m\u001b[0m\u001b[0m\n\u001b[1;32m     10\u001b[0m             \u001b[0msum1\u001b[0m \u001b[0;34m+=\u001b[0m \u001b[0;34m-\u001b[0m\u001b[0;36m4\u001b[0m\u001b[0;34m*\u001b[0m\u001b[0;36m100\u001b[0m\u001b[0;34m*\u001b[0m\u001b[0;34m(\u001b[0m\u001b[0mx\u001b[0m\u001b[0;34m[\u001b[0m\u001b[0mi\u001b[0m\u001b[0;34m+\u001b[0m\u001b[0;36m1\u001b[0m\u001b[0;34m]\u001b[0m \u001b[0;34m-\u001b[0m \u001b[0mx\u001b[0m\u001b[0;34m[\u001b[0m\u001b[0mi\u001b[0m\u001b[0;34m]\u001b[0m\u001b[0;34m**\u001b[0m\u001b[0;36m2\u001b[0m\u001b[0;34m)\u001b[0m\u001b[0;34m*\u001b[0m\u001b[0mx\u001b[0m\u001b[0;34m[\u001b[0m\u001b[0mi\u001b[0m\u001b[0;34m]\u001b[0m \u001b[0;34m+\u001b[0m \u001b[0;36m2\u001b[0m\u001b[0;34m*\u001b[0m\u001b[0;34m(\u001b[0m\u001b[0mx\u001b[0m\u001b[0;34m[\u001b[0m\u001b[0mi\u001b[0m\u001b[0;34m]\u001b[0m\u001b[0;34m-\u001b[0m\u001b[0;36m1\u001b[0m\u001b[0;34m)\u001b[0m\u001b[0;34m\u001b[0m\u001b[0m\n\u001b[0;32m---> 11\u001b[0;31m             \u001b[0msumi\u001b[0m \u001b[0;34m+=\u001b[0m \u001b[0;36m2\u001b[0m\u001b[0;34m*\u001b[0m\u001b[0;36m100\u001b[0m\u001b[0;34m*\u001b[0m\u001b[0;34m(\u001b[0m\u001b[0mx\u001b[0m\u001b[0;34m[\u001b[0m\u001b[0mi\u001b[0m\u001b[0;34m+\u001b[0m\u001b[0;36m1\u001b[0m\u001b[0;34m]\u001b[0m \u001b[0;34m-\u001b[0m \u001b[0mx\u001b[0m\u001b[0;34m[\u001b[0m\u001b[0mi\u001b[0m\u001b[0;34m]\u001b[0m\u001b[0;34m**\u001b[0m\u001b[0;36m2\u001b[0m\u001b[0;34m)\u001b[0m \u001b[0;34m-\u001b[0m\u001b[0;36m4\u001b[0m\u001b[0;34m*\u001b[0m\u001b[0;36m100\u001b[0m\u001b[0;34m*\u001b[0m\u001b[0;34m(\u001b[0m\u001b[0mx\u001b[0m\u001b[0;34m[\u001b[0m\u001b[0mi\u001b[0m\u001b[0;34m+\u001b[0m\u001b[0;36m2\u001b[0m\u001b[0;34m]\u001b[0m \u001b[0;34m-\u001b[0m \u001b[0mx\u001b[0m\u001b[0;34m[\u001b[0m\u001b[0mi\u001b[0m\u001b[0;34m+\u001b[0m\u001b[0;36m1\u001b[0m\u001b[0;34m]\u001b[0m\u001b[0;34m**\u001b[0m\u001b[0;36m2\u001b[0m\u001b[0;34m)\u001b[0m\u001b[0;34m*\u001b[0m\u001b[0mx\u001b[0m\u001b[0;34m[\u001b[0m\u001b[0mi\u001b[0m\u001b[0;34m+\u001b[0m\u001b[0;36m1\u001b[0m\u001b[0;34m]\u001b[0m \u001b[0;34m+\u001b[0m \u001b[0;36m2\u001b[0m\u001b[0;34m*\u001b[0m\u001b[0;34m(\u001b[0m\u001b[0mx\u001b[0m\u001b[0;34m[\u001b[0m\u001b[0mi\u001b[0m\u001b[0;34m+\u001b[0m\u001b[0;36m1\u001b[0m\u001b[0;34m]\u001b[0m\u001b[0;34m-\u001b[0m\u001b[0;36m1\u001b[0m\u001b[0;34m)\u001b[0m\u001b[0;34m\u001b[0m\u001b[0m\n\u001b[0m\u001b[1;32m     12\u001b[0m             \u001b[0msumf\u001b[0m \u001b[0;34m+=\u001b[0m \u001b[0;36m2\u001b[0m\u001b[0;34m*\u001b[0m\u001b[0;36m100\u001b[0m\u001b[0;34m*\u001b[0m\u001b[0;34m(\u001b[0m\u001b[0mx\u001b[0m\u001b[0;34m[\u001b[0m\u001b[0mi\u001b[0m\u001b[0;34m+\u001b[0m\u001b[0;36m2\u001b[0m\u001b[0;34m]\u001b[0m\u001b[0;34m-\u001b[0m \u001b[0mx\u001b[0m\u001b[0;34m[\u001b[0m\u001b[0mi\u001b[0m\u001b[0;34m+\u001b[0m\u001b[0;36m1\u001b[0m\u001b[0;34m]\u001b[0m\u001b[0;34m**\u001b[0m\u001b[0;36m2\u001b[0m\u001b[0;34m)\u001b[0m\u001b[0;34m\u001b[0m\u001b[0m\n\u001b[1;32m     13\u001b[0m             \u001b[0mprint\u001b[0m\u001b[0;34m(\u001b[0m\u001b[0;34m'>>>iteration: {} sum1: {} sumi: {} sumf: {}'\u001b[0m\u001b[0;34m.\u001b[0m\u001b[0mformat\u001b[0m\u001b[0;34m(\u001b[0m\u001b[0mi\u001b[0m\u001b[0;34m,\u001b[0m \u001b[0msum1\u001b[0m\u001b[0;34m,\u001b[0m \u001b[0msumi\u001b[0m \u001b[0;34m,\u001b[0m \u001b[0msumf\u001b[0m\u001b[0;34m)\u001b[0m\u001b[0;34m)\u001b[0m\u001b[0;34m\u001b[0m\u001b[0m\n",
      "\u001b[0;31mIndexError\u001b[0m: index 3 is out of bounds for axis 0 with size 3"
     ]
    }
   ],
   "source": [
    "#x= np.random.randn(n)\n",
    "x= np.array((.5,.5, .5))\n",
    "n= 3\n",
    "alpha= 0.03\n",
    "sum1 = sumi = sumf =0,\n",
    "for j in range(10):\n",
    "    for i in range(n):  \n",
    "            sum1 += -4*100*(x[i+1] - x[i]**2)*x[i] + 2*(x[i]-1) \n",
    "            sumi += 2*100*(x[i+1] - x[i]**2) -4*100*(x[i+2] - x[i+1]**2)*x[i+1] + 2*(x[i+1]-1)\n",
    "            sumf += 2*100*(x[i+2]- x[i+1]**2)\n",
    "            print('>>>iteration: {} sum1: {} sumi: {} sumf: {}'.format(i, sum1, sumi , sumf))\n",
    "    pd_array = np.array((sum1, np.repeat(sumi, n-2),  sumf))\n",
    "    x = x - alpha*pd_array\n",
    "    print('x_values : '.format(x) )"
   ]
  },
  {
   "cell_type": "code",
   "execution_count": 68,
   "metadata": {},
   "outputs": [
    {
     "data": {
      "text/plain": [
       "Type help() for interactive help, or help(object) for help about object."
      ]
     },
     "execution_count": 68,
     "metadata": {},
     "output_type": "execute_result"
    }
   ],
   "source": [
    "help "
   ]
  },
  {
   "cell_type": "code",
   "execution_count": 74,
   "metadata": {},
   "outputs": [
    {
     "data": {
      "text/plain": [
       "4.644438589467838"
      ]
     },
     "execution_count": 74,
     "metadata": {},
     "output_type": "execute_result"
    }
   ],
   "source": [
    "math.log(44100, 10)"
   ]
  },
  {
   "cell_type": "code",
   "execution_count": 72,
   "metadata": {},
   "outputs": [
    {
     "data": {
      "text/plain": [
       "32768"
      ]
     },
     "execution_count": 72,
     "metadata": {},
     "output_type": "execute_result"
    }
   ],
   "source": [
    "2**15"
   ]
  },
  {
   "cell_type": "code",
   "execution_count": 73,
   "metadata": {},
   "outputs": [
    {
     "data": {
      "text/plain": [
       "65536"
      ]
     },
     "execution_count": 73,
     "metadata": {},
     "output_type": "execute_result"
    }
   ],
   "source": [
    "2**16"
   ]
  },
  {
   "cell_type": "code",
   "execution_count": 89,
   "metadata": {
    "collapsed": true
   },
   "outputs": [],
   "source": [
    "act_fn = lambda x : 1/ (1+ np.exp(-1*x))"
   ]
  },
  {
   "cell_type": "code",
   "execution_count": 98,
   "metadata": {},
   "outputs": [
    {
     "data": {
      "text/plain": [
       "0.57111456578904585"
      ]
     },
     "execution_count": 98,
     "metadata": {},
     "output_type": "execute_result"
    }
   ],
   "source": [
    "act_fn(0.2864)"
   ]
  },
  {
   "cell_type": "code",
   "execution_count": null,
   "metadata": {
    "collapsed": true
   },
   "outputs": [],
   "source": []
  },
  {
   "cell_type": "code",
   "execution_count": 92,
   "metadata": {},
   "outputs": [
    {
     "data": {
      "text/plain": [
       "-0.1372"
      ]
     },
     "execution_count": 92,
     "metadata": {},
     "output_type": "execute_result"
    }
   ],
   "source": [
    "-1*(0.20*0.13)+(0.1*.50) + -1*(.56*.77) + 0.27"
   ]
  },
  {
   "cell_type": "code",
   "execution_count": 86,
   "metadata": {},
   "outputs": [
    {
     "data": {
      "text/plain": [
       "-2"
      ]
     },
     "execution_count": 86,
     "metadata": {},
     "output_type": "execute_result"
    }
   ],
   "source": [
    "-1*2"
   ]
  },
  {
   "cell_type": "code",
   "execution_count": 97,
   "metadata": {},
   "outputs": [
    {
     "data": {
      "text/plain": [
       "0.2864"
      ]
     },
     "execution_count": 97,
     "metadata": {},
     "output_type": "execute_result"
    }
   ],
   "source": [
    "(-0.20*0.13)+(0.48*.63) +(-.52*.50) + 0.27"
   ]
  },
  {
   "cell_type": "code",
   "execution_count": 101,
   "metadata": {},
   "outputs": [
    {
     "data": {
      "text/plain": [
       "array([[ 0.,  0.],\n",
       "       [ 0.,  3.]])"
      ]
     },
     "execution_count": 101,
     "metadata": {},
     "output_type": "execute_result"
    }
   ],
   "source": [
    "np.arange(4).reshape(2,2) * np.identity(2)"
   ]
  },
  {
   "cell_type": "code",
   "execution_count": 103,
   "metadata": {},
   "outputs": [
    {
     "data": {
      "text/plain": [
       "array([[ 0.,  1.],\n",
       "       [ 2.,  3.]])"
      ]
     },
     "execution_count": 103,
     "metadata": {},
     "output_type": "execute_result"
    }
   ],
   "source": [
    "np.matmul(np.arange(4).reshape(2,2), np.identity(2))"
   ]
  },
  {
   "cell_type": "code",
   "execution_count": 107,
   "metadata": {},
   "outputs": [
    {
     "data": {
      "text/plain": [
       "array([[0, 1],\n",
       "       [2, 3],\n",
       "       [4, 5]])"
      ]
     },
     "execution_count": 107,
     "metadata": {},
     "output_type": "execute_result"
    }
   ],
   "source": [
    "np.arange(6).reshape(3,2)"
   ]
  },
  {
   "cell_type": "code",
   "execution_count": 111,
   "metadata": {},
   "outputs": [
    {
     "data": {
      "text/plain": [
       "array([1, 5])"
      ]
     },
     "execution_count": 111,
     "metadata": {},
     "output_type": "execute_result"
    }
   ],
   "source": [
    "np.dot(np.arange(4).reshape(2,2) , np.array([1,1]))"
   ]
  },
  {
   "cell_type": "code",
   "execution_count": 130,
   "metadata": {
    "collapsed": true
   },
   "outputs": [],
   "source": [
    "#wi_j denotes weights for layer i to layer j\n",
    "\n",
    "w0_1 =np.array([[-.20, 0.48, -.52],\n",
    "              [-.56, 1.97, 1.39],\n",
    "              [.10, .28, .77],\n",
    "              [1.25, 1.09, -1.30]])  \n",
    "b_0 = np.array([[0.27, 0.23, 1.35, .89]])\n",
    "x =  np.array([[.13, 0.68, .80, .57, .97 ],\n",
    "               [.63, .89, .50, .35, .71],\n",
    "              [.50, .23, .24, .79, .50]])"
   ]
  },
  {
   "cell_type": "code",
   "execution_count": 131,
   "metadata": {},
   "outputs": [
    {
     "data": {
      "text/plain": [
       "array([[ 0.2864,  0.4416,  0.2252, -0.0868,  0.1568],\n",
       "       [ 2.0933,  1.9222,  1.1006,  1.6984,  1.7805],\n",
       "       [ 1.9244,  1.8443,  1.7548,  2.1133,  2.0308],\n",
       "       [ 1.0892,  2.4111,  2.123 ,  0.957 ,  2.2264]])"
      ]
     },
     "execution_count": 131,
     "metadata": {},
     "output_type": "execute_result"
    }
   ],
   "source": [
    "np.dot(w0_1,x ) +b_0.T"
   ]
  },
  {
   "cell_type": "code",
   "execution_count": 132,
   "metadata": {
    "collapsed": true
   },
   "outputs": [],
   "source": [
    "a = lambda x : 1/ (1 + np.exp(-x ))"
   ]
  },
  {
   "cell_type": "code",
   "execution_count": 134,
   "metadata": {},
   "outputs": [
    {
     "name": "stdout",
     "output_type": "stream",
     "text": [
      "[[ 0.57111457  0.60864021  0.55606326  0.47831361  0.53911988]\n",
      " [ 0.89025027  0.87238356  0.75037251  0.84532565  0.85575859]\n",
      " [ 0.87262829  0.86345647  0.8525572   0.89218916  0.88399314]\n",
      " [ 0.74823105  0.91766983  0.89311864  0.72252075  0.90259532]]\n"
     ]
    }
   ],
   "source": [
    "h1 =a(np.dot(w0_1,x)+b_0.T  )\n",
    "print(h1)"
   ]
  },
  {
   "cell_type": "code",
   "execution_count": 135,
   "metadata": {
    "collapsed": true
   },
   "outputs": [],
   "source": [
    "w1_2 = np.array([[-1, -0.19, 0.83, -.22],\n",
    "                [-.27, .24, 1.62, -.51 ],\n",
    "               [-.29, .06, .15, .26],\n",
    "               [0.00, .67, -.36, -.42]])\n",
    "\n",
    "b_1 = np.array([[-1.19, -.93, -.43, .28]])\n"
   ]
  },
  {
   "cell_type": "code",
   "execution_count": 136,
   "metadata": {},
   "outputs": [
    {
     "name": "stdout",
     "output_type": "stream",
     "text": [
      "[[ 0.2025243   0.19006135  0.20141119  0.22315694  0.20479822]\n",
      " [ 0.54029222  0.51145476  0.50640077  0.55492603  0.52536944]\n",
      " [ 0.44601775  0.4536212   0.45359851  0.45108009  0.45816665]\n",
      " [ 0.56170004  0.54195892  0.52515853  0.55520437  0.53892873]]\n"
     ]
    }
   ],
   "source": [
    "h2=a(np.dot(w1_2,h1) + b_1.T)\n",
    "print(h2)"
   ]
  },
  {
   "cell_type": "code",
   "execution_count": 138,
   "metadata": {
    "collapsed": true
   },
   "outputs": [],
   "source": [
    "w3_2= np.array([[-.13, 0.01, -.10, .03],\n",
    "               [-0.24, -.02, -.15, -.10]])\n",
    "b2 = np.array([[-.13, .03]])"
   ]
  },
  {
   "cell_type": "code",
   "execution_count": 140,
   "metadata": {},
   "outputs": [
    {
     "name": "stdout",
     "output_type": "stream",
     "text": [
      "[[ 0.45544946  0.45544431  0.45494144  0.45464675  0.45486845]\n",
      " [ 0.46195261  0.46304678  0.46281321  0.46062206  0.46200418]]\n"
     ]
    }
   ],
   "source": [
    "h3 = np.dot(w3_2, h2)+ b2.T\n",
    "print(h3)"
   ]
  },
  {
   "cell_type": "code",
   "execution_count": 7,
   "metadata": {},
   "outputs": [
    {
     "data": {
      "text/plain": [
       "array([ 0.65240916,  0.70580649,  0.36590872,  1.62188709,  0.74862648,\n",
       "        0.82155044, -1.18044787, -0.64161925,  0.03658894,  1.84069894,\n",
       "        0.94584273, -1.35013458, -0.575231  ,  2.64752594, -0.07376144,\n",
       "        0.49034489,  1.52215825, -0.04780517,  0.16017582,  2.50473588])"
      ]
     },
     "execution_count": 7,
     "metadata": {},
     "output_type": "execute_result"
    }
   ],
   "source": [
    "np.random.randn(20)"
   ]
  },
  {
   "cell_type": "code",
   "execution_count": 42,
   "metadata": {},
   "outputs": [
    {
     "name": "stdout",
     "output_type": "stream",
     "text": [
      "1 2\n",
      "2 3\n",
      "3 4\n"
     ]
    }
   ],
   "source": [
    "y_= np.array([[1,2,3,4]])\n",
    "for i in range(y_.size-1):\n",
    "    print(y_[0,i], y_[0, i+1] ) "
   ]
  },
  {
   "cell_type": "markdown",
   "metadata": {},
   "source": [
    "Gradient descent on $$f(m,b) = \\sum_{i=1}^{n} (y_{i} - (m\\times x_{i} +b))^{2} $$"
   ]
  },
  {
   "cell_type": "code",
   "execution_count": 33,
   "metadata": {},
   "outputs": [
    {
     "name": "stdout",
     "output_type": "stream",
     "text": [
      ">>> iteration: 0 pder_m:1.8882575807949298 pder_b:-1.4860921986300735 \n",
      ">>> iteration: 1 pder_m:1.5372685549091236 pder_b:-2.0508700158666944 \n",
      ">>> iteration: 2 pder_m:2.1005551722602034 pder_b:-3.0799332991754955 \n",
      ">>> iteration: 3 pder_m:1.584602122005093 pder_b:-3.4756996605778716 \n",
      ">>> iteration: 4 pder_m:1.3296435801646656 pder_b:-4.107873940449712 \n",
      ">>> iteration: 5 pder_m:0.8334463970451541 pder_b:-4.53302072609336 \n",
      ">>> iteration: 6 pder_m:0.49688470703746646 pder_b:-5.1086526248237 \n",
      ">>> iteration: 7 pder_m:0.0824102630093218 pder_b:-5.62116705878272 \n",
      ">>> iteration: 8 pder_m:0.4178250577951224 pder_b:-6.555859426850758 \n",
      ">>> iteration: 9 pder_m:0.027462288185372996 pder_b:-7.089226869047432 \n",
      ">>> iteration: 9 pder_m:0.0027462288185372994 pder_b:-0.7089226869047432 \n",
      "f_m: 0.0027462288185372994 f_b: -0.7089226869047432 \n",
      ">>> iteration: 0 pder_m:1.890947151464315 pder_b:-2.194970294566773 \n",
      ">>> iteration: 1 pder_m:1.5397920861757877 pder_b:-2.7600152864570955 \n",
      ">>> iteration: 2 pder_m:2.1031195270954592 pder_b:-3.7891531499782394 \n",
      ">>> iteration: 3 pder_m:1.5866716176954936 pder_b:-4.185299097474872 \n",
      ">>> iteration: 4 pder_m:1.331619820766338 pder_b:-4.8177046050127315 \n",
      ">>> iteration: 5 pder_m:0.8350058774230488 pder_b:-5.243208475048534 \n",
      ">>> iteration: 6 pder_m:0.49829151873168315 pder_b:-5.819101487764426 \n",
      ">>> iteration: 7 pder_m:0.08357605749623565 pder_b:-6.331913949260137 \n",
      ">>> iteration: 8 pder_m:0.4190287628959921 pder_b:-7.266711961927293 \n",
      ">>> iteration: 9 pder_m:0.02845713654121096 pder_b:-7.8003647730078765 \n",
      ">>> iteration: 9 pder_m:0.002845713654121096 pder_b:-0.7800364773007876 \n",
      "f_m: 0.002845713654121096 f_b: -0.7800364773007876 \n",
      ">>> iteration: 0 pder_m:1.890987925653659 pder_b:-2.2660378786431705 \n",
      ">>> iteration: 1 pder_m:1.539660806022006 pder_b:-2.831359723851375 \n",
      ">>> iteration: 2 pder_m:2.103030549384129 pder_b:-3.860574869326287 \n",
      ">>> iteration: 3 pder_m:1.5860698540808635 pder_b:-4.257114153796172 \n",
      ">>> iteration: 4 pder_m:1.3309214238058196 pder_b:-4.889759265449302 \n",
      ">>> iteration: 5 pder_m:0.8338756226904128 pder_b:-5.315633155610001 \n",
      ">>> iteration: 6 pder_m:0.49700306474239153 pder_b:-5.891796741421971 \n",
      ">>> iteration: 7 pder_m:0.08203785521464224 pder_b:-6.404918026794536 \n",
      ">>> iteration: 8 pder_m:0.41752984457757114 pder_b:-7.33982551114015 \n",
      ">>> iteration: 9 pder_m:0.026741795437084603 pder_b:-7.873774028872677 \n",
      ">>> iteration: 9 pder_m:0.0026741795437084603 pder_b:-0.7873774028872677 \n",
      "f_m: 0.0026741795437084603 f_b: -0.7873774028872677 \n",
      ">>> iteration: 0 pder_m:1.8907612198611112 pder_b:-2.2733353831375074 \n",
      ">>> iteration: 1 pder_m:1.5392724169890781 pder_b:-2.8389173934815166 \n",
      ">>> iteration: 2 pder_m:2.1026819128843086 pder_b:-3.8682051625036245 \n",
      ">>> iteration: 3 pder_m:1.585239341419357 pder_b:-4.265114074355425 \n",
      ">>> iteration: 4 pder_m:1.3300001026694548 pder_b:-4.897984347251577 \n",
      ">>> iteration: 5 pder_m:0.8325484753324548 pder_b:-5.324205953440319 \n",
      ">>> iteration: 6 pder_m:0.495527254072731 pder_b:-5.900623802725903 \n",
      ">>> iteration: 7 pder_m:0.08032735059628371 pder_b:-6.414035296669837 \n",
      ">>> iteration: 8 pder_m:0.4158562559611298 pder_b:-7.349045653953043 \n",
      ">>> iteration: 9 pder_m:0.024864829581514758 pder_b:-7.883272053712955 \n",
      ">>> iteration: 9 pder_m:0.0024864829581514756 pder_b:-0.7883272053712955 \n",
      "f_m: 0.0024864829581514756 f_b: -0.7883272053712955 \n",
      ">>> iteration: 0 pder_m:1.8905222240096826 pder_b:-2.2742448121896564 \n",
      ">>> iteration: 1 pder_m:1.5388830861974356 pder_b:-2.8400687270751934 \n",
      ">>> iteration: 2 pder_m:2.102329544456075 pder_b:-3.869424022308429 \n",
      ">>> iteration: 3 pder_m:1.5844389189826364 pder_b:-4.266676617959681 \n",
      ">>> iteration: 4 pder_m:1.3291152454662942 pder_b:-4.899756248374452 \n",
      ">>> iteration: 5 pder_m:0.8312862762315383 pder_b:-5.326301164933298 \n",
      ">>> iteration: 6 pder_m:0.49412682611133274 pder_b:-5.902955431326892 \n",
      ">>> iteration: 7 pder_m:0.07870870149667047 pder_b:-6.416636764544975 \n",
      ">>> iteration: 8 pder_m:0.4142719317855353 pder_b:-7.3517427742711075 \n",
      ">>> iteration: 9 pder_m:0.023091402905170477 pder_b:-7.8862275519425165 \n",
      ">>> iteration: 9 pder_m:0.002309140290517048 pder_b:-0.7886227551942516 \n",
      "f_m: 0.002309140290517048 f_b: -0.7886227551942516 \n",
      ">>> iteration: 0 pder_m:1.890297240878111 pder_b:-2.274502868122734 \n",
      ">>> iteration: 1 pder_m:1.5385184904188591 pder_b:-2.840551434265772 \n",
      ">>> iteration: 2 pder_m:2.1019992747855065 pder_b:-3.8699694395587203 \n",
      ">>> iteration: 3 pder_m:1.58369255172333 pder_b:-4.267541206554345 \n",
      ">>> iteration: 4 pder_m:1.3282904655557095 pder_b:-4.90081526254512 \n",
      ">>> iteration: 5 pder_m:0.8301110674645837 pder_b:-5.327660430106896 \n",
      ">>> iteration: 6 pder_m:0.49282324733886324 pder_b:-5.904534251703023 \n",
      ">>> iteration: 7 pder_m:0.07720246570584405 pder_b:-6.4184661785307915 \n",
      ">>> iteration: 8 pder_m:0.4127975727726135 pder_b:-7.353661018509761 \n",
      ">>> iteration: 9 pder_m:0.021441428691634734 pder_b:-7.888385745883483 \n",
      ">>> iteration: 9 pder_m:0.0021441428691634733 pder_b:-0.7888385745883484 \n",
      "f_m: 0.0021441428691634733 f_b: -0.7888385745883484 \n",
      ">>> iteration: 0 pder_m:1.8900880070968211 pder_b:-2.274683872717163 \n",
      ">>> iteration: 1 pder_m:1.538179619879357 pder_b:-2.840941037875945 \n",
      ">>> iteration: 2 pder_m:2.1016922776146396 pder_b:-3.870417272340984 \n",
      ">>> iteration: 3 pder_m:1.582999188820839 pder_b:-4.268285404596393 \n",
      ">>> iteration: 4 pder_m:1.3275242929032953 pder_b:-4.901739993668716 \n",
      ">>> iteration: 5 pder_m:0.8290195055161531 pder_b:-5.328863958083821 \n",
      ">>> iteration: 6 pder_m:0.49161248794146445 pder_b:-5.905941646774482 \n",
      ">>> iteration: 7 pder_m:0.07580352995442269 pder_b:-6.420106261284099 \n",
      ">>> iteration: 8 pder_m:0.41142823607427553 pder_b:-7.3553835842347475 \n",
      ">>> iteration: 9 pder_m:0.019909025209672082 pder_b:-7.890331115933217 \n",
      ">>> iteration: 9 pder_m:0.0019909025209672083 pder_b:-0.7890331115933217 \n",
      "f_m: 0.0019909025209672083 f_b: -0.7890331115933217 \n",
      ">>> iteration: 0 pder_m:1.8898936919295062 pder_b:-2.274846083111152 \n",
      ">>> iteration: 1 pder_m:1.5378649329996683 pder_b:-2.8412969388641054 \n",
      ">>> iteration: 2 pder_m:2.1014071861368624 pder_b:-3.870827240904201 \n",
      ">>> iteration: 3 pder_m:1.5823553448922951 pder_b:-4.268970557407506 \n",
      ">>> iteration: 4 pder_m:1.3268128428852703 pder_b:-4.902592776991928 \n",
      ">>> iteration: 5 pder_m:0.8280059215409877 pder_b:-5.329975612849842 \n",
      ">>> iteration: 6 pder_m:0.49048822547324866 pder_b:-5.907242598400469 \n",
      ">>> iteration: 7 pder_m:0.07450453996081768 pder_b:-6.421623270570726 \n",
      ">>> iteration: 8 pder_m:0.410156729710726 pder_b:-7.356977181494413 \n",
      ">>> iteration: 9 pder_m:0.01848610632820058 pder_b:-7.8921315938528425 \n",
      ">>> iteration: 9 pder_m:0.001848610632820058 pder_b:-0.7892131593852842 \n",
      "f_m: 0.001848610632820058 f_b: -0.7892131593852842 \n",
      ">>> iteration: 0 pder_m:1.8897132608825782 pder_b:-2.2749961147088715 \n",
      ">>> iteration: 1 pder_m:1.5375727333327092 pder_b:-2.8416268177863886 \n",
      ">>> iteration: 2 pder_m:2.1011424666574463 pder_b:-3.8712073231353283 \n",
      ">>> iteration: 3 pder_m:1.5817575133754724 pder_b:-4.269606156180146 \n",
      ">>> iteration: 4 pder_m:1.326152237156982 pder_b:-4.903384025548416 \n",
      ">>> iteration: 5 pder_m:0.8270647756858858 pder_b:-5.331007231036018 \n",
      ">>> iteration: 6 pder_m:0.48944431143290273 pder_b:-5.908449984201788 \n",
      ">>> iteration: 7 pder_m:0.07329838635430558 pder_b:-6.423031272165413 \n",
      ">>> iteration: 8 pder_m:0.40897609545044694 pder_b:-7.358456297239497 \n",
      ">>> iteration: 9 pder_m:0.017164881161222223 pder_b:-7.8938028042804635 \n",
      ">>> iteration: 9 pder_m:0.0017164881161222223 pder_b:-0.7893802804280463 \n",
      "f_m: 0.0017164881161222223 f_b: -0.7893802804280463 \n",
      ">>> iteration: 0 pder_m:1.8895457250605345 pder_b:-2.275135364852378 \n",
      ">>> iteration: 1 pder_m:1.537301417133861 pder_b:-2.8419330613409732 \n",
      ">>> iteration: 2 pder_m:2.1008966666027273 pder_b:-3.8715601819054117 \n",
      ">>> iteration: 3 pder_m:1.5812024092177723 pder_b:-4.270196269404569 \n",
      ">>> iteration: 4 pder_m:1.3255388453393138 pder_b:-4.904118664071737 \n",
      ">>> iteration: 5 pder_m:0.8261908942955504 pder_b:-5.331965059670611 \n",
      ">>> iteration: 6 pder_m:0.48847500682820577 pder_b:-5.909571018119978 \n",
      ">>> iteration: 7 pder_m:0.07217843764838744 pder_b:-6.424338583615015 \n",
      ">>> iteration: 8 pder_m:0.40787984219113216 pder_b:-7.359829640222122 \n",
      ">>> iteration: 9 pder_m:0.015938085203353325 pder_b:-7.895354512698129 \n",
      ">>> iteration: 9 pder_m:0.0015938085203353325 pder_b:-0.7895354512698128 \n",
      "f_m: 0.0015938085203353325 f_b: -0.7895354512698128 \n"
     ]
    }
   ],
   "source": [
    "alpha =0.03\n",
    "N=n= 10\n",
    "para_init = np.linspace(0, 0.01,2)\n",
    "x = np.random.randn(100)\n",
    "y = np.exp(-0.5*x)/ np.sqrt(2*np.pi)\n",
    "f_m =f_b=0 \n",
    "for i in range(N):\n",
    "    for i in range(n):    \n",
    "        f_m += -2*x[i]*(y[i] - (para_init[0]*x[i] + para_init[1]))\n",
    "        f_b += -2*(y[i] - (para_init[0]*x[i] + para_init[1]))\n",
    "        print('>>> iteration: {} pder_m:{} pder_b:{} '.format(i, f_m, f_b))\n",
    "    f_m = f_m/N ; f_b = f_b/N\n",
    "    para_init = para_init - alpha*np.array(f_m,f_b)\n",
    "    print('>>> iteration: {} pder_m:{} pder_b:{} '.format(i, f_m, f_b))\n",
    "    print('f_m: {} f_b: {} ' .format(f_m, f_b))"
   ]
  },
  {
   "cell_type": "code",
   "execution_count": 17,
   "metadata": {},
   "outputs": [
    {
     "data": {
      "text/plain": [
       "numpy.ndarray"
      ]
     },
     "execution_count": 17,
     "metadata": {},
     "output_type": "execute_result"
    }
   ],
   "source": [
    "type(para_init)"
   ]
  },
  {
   "cell_type": "code",
   "execution_count": 19,
   "metadata": {},
   "outputs": [
    {
     "data": {
      "text/plain": [
       "0.01"
      ]
     },
     "execution_count": 19,
     "metadata": {},
     "output_type": "execute_result"
    }
   ],
   "source": [
    "para_init[1]"
   ]
  },
  {
   "cell_type": "code",
   "execution_count": 22,
   "metadata": {},
   "outputs": [
    {
     "name": "stdout",
     "output_type": "stream",
     "text": [
      "\u001b[H\u001b[2J"
     ]
    }
   ],
   "source": [
    "clear\n"
   ]
  },
  {
   "cell_type": "code",
   "execution_count": 27,
   "metadata": {},
   "outputs": [
    {
     "data": {
      "text/plain": [
       "array([1, 6])"
      ]
     },
     "execution_count": 27,
     "metadata": {},
     "output_type": "execute_result"
    }
   ],
   "source": [
    "np.array((1,2))*np.array((1,3))"
   ]
  },
  {
   "cell_type": "code",
   "execution_count": 37,
   "metadata": {},
   "outputs": [
    {
     "name": "stdout",
     "output_type": "stream",
     "text": [
      "\u001b[H\u001b[2J"
     ]
    }
   ],
   "source": [
    "clear"
   ]
  },
  {
   "cell_type": "code",
   "execution_count": 36,
   "metadata": {},
   "outputs": [
    {
     "name": "stdout",
     "output_type": "stream",
     "text": [
      "\u001b[H\u001b[2J"
     ]
    }
   ],
   "source": []
  },
  {
   "cell_type": "code",
   "execution_count": 38,
   "metadata": {},
   "outputs": [
    {
     "data": {
      "text/plain": [
       "array([3, 3, 3, 3])"
      ]
     },
     "execution_count": 38,
     "metadata": {},
     "output_type": "execute_result"
    }
   ],
   "source": [
    "np.repeat(3, 4)"
   ]
  },
  {
   "cell_type": "code",
   "execution_count": null,
   "metadata": {
    "collapsed": true
   },
   "outputs": [],
   "source": []
  }
 ],
 "metadata": {
  "kernelspec": {
   "display_name": "Python 3",
   "language": "python",
   "name": "python3"
  },
  "language_info": {
   "codemirror_mode": {
    "name": "ipython",
    "version": 3
   },
   "file_extension": ".py",
   "mimetype": "text/x-python",
   "name": "python",
   "nbconvert_exporter": "python",
   "pygments_lexer": "ipython3",
   "version": "3.6.3"
  }
 },
 "nbformat": 4,
 "nbformat_minor": 2
}
