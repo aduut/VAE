{
 "cells": [
  {
   "cell_type": "code",
   "execution_count": 36,
   "metadata": {
    "collapsed": true
   },
   "outputs": [],
   "source": [
    "#loading modules\n",
    "import numpy as np\n",
    "import matplotlib.pylab as plt\n",
    "import random"
   ]
  },
  {
   "cell_type": "code",
   "execution_count": 54,
   "metadata": {},
   "outputs": [],
   "source": [
    "#readind the data files\n",
    "with  open('/Users/duutabib/deep_nlp_folder/DATA/rt-polarity.train.vecs',  'r') as f:\n",
    "    train_list = f.readlines()\n",
    "with  open( '/Users/duutabib/deep_nlp_folder/DATA/rt-polarity.dev.vecs', 'r') as s :\n",
    "    dev_list = s.readlines()\n",
    "with  open( '/Users/duutabib/deep_nlp_folder/DATA/rt-polarity.test.vecs', 'r') as x :\n",
    "    test_list = x.readlines()\n"
   ]
  },
  {
   "cell_type": "code",
   "execution_count": 55,
   "metadata": {},
   "outputs": [
    {
     "data": {
      "text/plain": [
       "str"
      ]
     },
     "execution_count": 55,
     "metadata": {},
     "output_type": "execute_result"
    }
   ],
   "source": [
    "type(str_obj[1])"
   ]
  },
  {
   "cell_type": "code",
   "execution_count": 47,
   "metadata": {},
   "outputs": [],
   "source": [
    "# implementing the perceptron\n",
    "random.seed(1001)\n",
    "\n",
    "def act_fn(row_data, weights):\n",
    "    bval = weights[0]  #  initailize activation value with the value of the bias\n",
    "    for i in range(len(row_data)-1):  # loop through elements of data and compute activation\n",
    "        bval += weights[i+1]*row_data[i] # sum of the product for each element of the array.\n",
    "        act_val = 1 / (1 + exp(-bval))\n",
    "    return act_val\n",
    "\n",
    "def plearn(data, lrate, iterations):\n",
    "    m = len(data)  # implementing mini-batch (this should be 100)\n",
    "    N = 100\n",
    "    weights_list = []\n",
    "    weights = np.random.normal(0, 1, (N,1))\n",
    "    weights = [0.0 for i in range(len(data[0]))] # initialize the weights\n",
    "    for j in tqdm(range(iterations)):\n",
    "        weights_list.append(weights)\n",
    "        error= 0.0  # intialize the error\n",
    "        for row in data:\n",
    "            compute = act_fn(row, weights)  # compute activation \n",
    "            error = (row[-1] - compute)**2 # compute square error \n",
    "            weights[0] = weights[0] + (lrate* error)/m  # adjust the bias!\n",
    "            for i in range(len(weights)-1):  #loop through the weights and update\n",
    "                weights[i+1] = weights[i+1] + (lrate* error* row[i])/m  #learning rule!\n",
    "        print('>>>iteration: {} learning_rate: {}  error: {} ' .format(j, lrate, error))    \n",
    "    return weights,weights_list            \n",
    "\n"
   ]
  },
  {
   "cell_type": "code",
   "execution_count": 70,
   "metadata": {},
   "outputs": [
    {
     "ename": "ValueError",
     "evalue": "Some errors were detected !\n    Line #364 (got 1 columns instead of 3)\n    Line #2445 (got 1 columns instead of 3)\n    Line #2930 (got 1 columns instead of 3)\n    Line #4163 (got 1 columns instead of 3)\n    Line #5873 (got 1 columns instead of 3)",
     "output_type": "error",
     "traceback": [
      "\u001b[0;31m---------------------------------------------------------------------------\u001b[0m",
      "\u001b[0;31mValueError\u001b[0m                                Traceback (most recent call last)",
      "\u001b[0;32m<ipython-input-70-d3f7163ba116>\u001b[0m in \u001b[0;36m<module>\u001b[0;34m()\u001b[0m\n\u001b[1;32m      1\u001b[0m \u001b[0;31m# implementing data reader\u001b[0m\u001b[0;34m\u001b[0m\u001b[0;34m\u001b[0m\u001b[0m\n\u001b[0;32m----> 2\u001b[0;31m \u001b[0mtrain_array\u001b[0m \u001b[0;34m=\u001b[0m \u001b[0mnp\u001b[0m\u001b[0;34m.\u001b[0m\u001b[0mgenfromtxt\u001b[0m\u001b[0;34m(\u001b[0m\u001b[0;34m'/Users/duutabib/deep_nlp_folder/DATA/rt-polarity.train.txt'\u001b[0m\u001b[0;34m,\u001b[0m\u001b[0mdtype\u001b[0m\u001b[0;34m=\u001b[0m\u001b[0;32mNone\u001b[0m\u001b[0;34m,\u001b[0m \u001b[0mdelimiter\u001b[0m\u001b[0;34m=\u001b[0m\u001b[0;34m'\\t'\u001b[0m\u001b[0;34m)\u001b[0m\u001b[0;34m\u001b[0m\u001b[0m\n\u001b[0m",
      "\u001b[0;32m~/anaconda3/lib/python3.6/site-packages/numpy/lib/npyio.py\u001b[0m in \u001b[0;36mgenfromtxt\u001b[0;34m(fname, dtype, comments, delimiter, skip_header, skip_footer, converters, missing_values, filling_values, usecols, names, excludelist, deletechars, replace_space, autostrip, case_sensitive, defaultfmt, unpack, usemask, loose, invalid_raise, max_rows)\u001b[0m\n\u001b[1;32m   1865\u001b[0m             \u001b[0;31m# Raise an exception ?\u001b[0m\u001b[0;34m\u001b[0m\u001b[0;34m\u001b[0m\u001b[0m\n\u001b[1;32m   1866\u001b[0m             \u001b[0;32mif\u001b[0m \u001b[0minvalid_raise\u001b[0m\u001b[0;34m:\u001b[0m\u001b[0;34m\u001b[0m\u001b[0m\n\u001b[0;32m-> 1867\u001b[0;31m                 \u001b[0;32mraise\u001b[0m \u001b[0mValueError\u001b[0m\u001b[0;34m(\u001b[0m\u001b[0merrmsg\u001b[0m\u001b[0;34m)\u001b[0m\u001b[0;34m\u001b[0m\u001b[0m\n\u001b[0m\u001b[1;32m   1868\u001b[0m             \u001b[0;31m# Issue a warning ?\u001b[0m\u001b[0;34m\u001b[0m\u001b[0;34m\u001b[0m\u001b[0m\n\u001b[1;32m   1869\u001b[0m             \u001b[0;32melse\u001b[0m\u001b[0;34m:\u001b[0m\u001b[0;34m\u001b[0m\u001b[0m\n",
      "\u001b[0;31mValueError\u001b[0m: Some errors were detected !\n    Line #364 (got 1 columns instead of 3)\n    Line #2445 (got 1 columns instead of 3)\n    Line #2930 (got 1 columns instead of 3)\n    Line #4163 (got 1 columns instead of 3)\n    Line #5873 (got 1 columns instead of 3)"
     ]
    }
   ],
   "source": [
    "# implementing data reader \n",
    "train_array = np.genfromtxt('/Users/duutabib/deep_nlp_folder/DATA/rt-polarity.train.txt',dtype=None, delimiter='\\t')"
   ]
  },
  {
   "cell_type": "code",
   "execution_count": 75,
   "metadata": {},
   "outputs": [],
   "source": [
    "cur_dev=[[str_obj[i].split('\\t')[0], str_obj[1].split('\\t')[1], str_obj[1].split('\\t')[2]] for i in range(len(dev_array)) ]"
   ]
  },
  {
   "cell_type": "code",
   "execution_count": 63,
   "metadata": {},
   "outputs": [],
   "source": [
    "dev_array = np.genfromtxt('/Users/duutabib/deep_nlp_folder/DATA/rt-polarity.dev.txt', dtype=None, delimiter='\\t')"
   ]
  },
  {
   "cell_type": "code",
   "execution_count": 67,
   "metadata": {},
   "outputs": [
    {
     "data": {
      "text/plain": [
       "b'label=POS'"
      ]
     },
     "execution_count": 67,
     "metadata": {},
     "output_type": "execute_result"
    }
   ],
   "source": [
    "dev_array[0][1]"
   ]
  },
  {
   "cell_type": "code",
   "execution_count": 71,
   "metadata": {},
   "outputs": [
    {
     "data": {
      "text/plain": [
       "1599"
      ]
     },
     "execution_count": 71,
     "metadata": {},
     "output_type": "execute_result"
    }
   ],
   "source": [
    "len(dev_array)"
   ]
  },
  {
   "cell_type": "code",
   "execution_count": 83,
   "metadata": {},
   "outputs": [
    {
     "data": {
      "text/plain": [
       "[[0, 0, 0], [1, 1, 1], [4, 8, 16], [9, 27, 81]]"
      ]
     },
     "execution_count": 83,
     "metadata": {},
     "output_type": "execute_result"
    }
   ],
   "source": [
    "[[x**2, x**3, x**4]  for x in range(4) ]"
   ]
  },
  {
   "cell_type": "code",
   "execution_count": 131,
   "metadata": {},
   "outputs": [],
   "source": [
    "dev_arr_x = np.zeros((len(dev_array), 100 ))\n",
    "dev_arr_y = np.zeros((len(dev_array), 1 ))\n",
    "for i in range(len(dev_array)):\n",
    "    dev_arr_x[i, :]= np.fromstring(cur_dev[i][2].replace('\\n', ''), dtype='float', sep=' ')\n",
    "    if cur_dev[i][1] == 'label=POS' :\n",
    "        dev_arr[i, :] = 1 \n",
    "    else: \n",
    "        dev_arr_y[i, : ] = 0"
   ]
  },
  {
   "cell_type": "code",
   "execution_count": 119,
   "metadata": {},
   "outputs": [
    {
     "data": {
      "text/plain": [
       "'14.0379872983 11.4057010426 21.9875617956 -14.8518706456 8.96523592564 44.2830831691 -6.15042288766 -8.35389055314 10.6299118967 10.2869934555 5.76307807544 0.345084952404 25.1991077156 2.9983712999 15.895152921 2.04232467211 36.2041611641 13.704014267 -6.92298431089 38.9604606919 2.48314919896 -2.62673233368 4.91505204153 -22.3616696829 17.539818534 0.58760618037 -25.2559640602 -46.983114365 14.0668527235 -5.64344771683 -18.9114879315 54.0253440554 -20.8667660899 1.36540409922 1.44355041906 8.89057577079 -37.8054543684 12.4246044809 -13.0267009353 -16.6694136878 -23.6346922544 8.68847255204 8.19870158399 -39.607514658 -8.14371974037 8.64457434149 23.8226089534 -8.33306065429 3.36362147606 -43.8991056421 -19.0322048214 -10.0204498303 26.5379460953 76.8881064767 -12.7741608731 -159.872475257 -4.50759852445 -9.12500604906 91.2995839078 3.74370535086 13.8509862665 69.8071888131 -10.7265941985 -5.10009107724 38.3426359363 -8.58473722269 48.5471608639 16.0830410795 4.62948397545 -13.4989925082 -6.9096918392 -21.3587782917 -4.51108618536 -11.515697382 1.71111597734 -6.05867007191 -11.0188789606 -0.262694505415 -46.3901812739 -9.69167395829 35.4055049569 19.8453701989 -36.8165020956 -17.8276750507 -97.572870501 -20.8459106827 -19.6293791997 -2.10108943684 -4.18547880697 -23.1015345482 -12.9441233216 -2.44682881686 7.51467237134 -6.92531119813 -15.2812907893 -0.340291734415 -36.9700850222 -38.8697328135 21.9539617455 6.11297227423'"
      ]
     },
     "execution_count": 119,
     "metadata": {},
     "output_type": "execute_result"
    }
   ],
   "source": [
    "cur_dev[0][2].replace('\\n', '')"
   ]
  },
  {
   "cell_type": "code",
   "execution_count": 139,
   "metadata": {},
   "outputs": [
    {
     "name": "stdout",
     "output_type": "stream",
     "text": [
      "\u001b[H\u001b[2J"
     ]
    }
   ],
   "source": [
    "clear"
   ]
  },
  {
   "cell_type": "code",
   "execution_count": 149,
   "metadata": {},
   "outputs": [],
   "source": [
    "# data reader....\n",
    "def text_array(file_path):\n",
    "    \"This reads .vec/.txt files into an array of inputs and numerics labels\"\n",
    "    with  open('/Users/duutabib/deep_nlp_folder/DATA/rt-polarity.train.vecs',  'r') as f:\n",
    "        data_obj = f.readlines()\n",
    "    cur_data=[[data_obj[i].split('\\t')[0], data_obj[i].split('\\t')[1], data_obj[i].split('\\t')[2]] for i in range(len(data_obj)) ]\n",
    "    init_x = np.zeros((len(data_obj), 100 ))\n",
    "    init_y = np.zeros((len(data_obj), 1 ))\n",
    "    for i in range(len(data_obj)):\n",
    "        init_x[i, :]= np.fromstring(cur_data[i][2].replace('\\n', ''), dtype='float', sep=' ')\n",
    "        if cur_data[i][1] == 'label=POS' :\n",
    "            init_y[i, :] = 1 \n",
    "        else: \n",
    "            init_y[i, : ] = 0\n",
    "            x , y = init_x ,init_y\n",
    "        return x, y"
   ]
  },
  {
   "cell_type": "code",
   "execution_count": 143,
   "metadata": {},
   "outputs": [
    {
     "data": {
      "text/plain": [
       "7464"
      ]
     },
     "execution_count": 143,
     "metadata": {},
     "output_type": "execute_result"
    }
   ],
   "source": [
    "len(str_obj)"
   ]
  },
  {
   "cell_type": "code",
   "execution_count": null,
   "metadata": {
    "collapsed": true
   },
   "outputs": [],
   "source": [
    "800 + 139"
   ]
  },
  {
   "cell_type": "code",
   "execution_count": null,
   "metadata": {
    "collapsed": true
   },
   "outputs": [],
   "source": []
  }
 ],
 "metadata": {
  "kernelspec": {
   "display_name": "Python 3",
   "language": "python",
   "name": "python3"
  },
  "language_info": {
   "codemirror_mode": {
    "name": "ipython",
    "version": 3
   },
   "file_extension": ".py",
   "mimetype": "text/x-python",
   "name": "python",
   "nbconvert_exporter": "python",
   "pygments_lexer": "ipython3",
   "version": "3.6.3"
  }
 },
 "nbformat": 4,
 "nbformat_minor": 2
}
